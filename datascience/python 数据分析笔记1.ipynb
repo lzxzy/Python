{
 "cells": [
  {
   "cell_type": "markdown",
   "metadata": {
    "collapsed": true
   },
   "source": [
    "%matplotlib inline"
   ]
  },
  {
   "cell_type": "markdown",
   "metadata": {},
   "source": [
    "# Numpy 基础学习"
   ]
  },
  {
   "cell_type": "markdown",
   "metadata": {},
   "source": [
    "## ndarry:多维数组对象\n",
    "  numpy最重要的一种数据对象，可以进行整块数据运算。"
   ]
  },
  {
   "cell_type": "code",
   "execution_count": 2,
   "metadata": {
    "collapsed": false
   },
   "outputs": [
    {
     "name": "stdout",
     "output_type": "stream",
     "text": [
      "/Users/apple/workspace/DataSince/pydata-book/ch04\n"
     ]
    }
   ],
   "source": [
    "%cd ch04/"
   ]
  },
  {
   "cell_type": "code",
   "execution_count": 3,
   "metadata": {
    "collapsed": true
   },
   "outputs": [],
   "source": [
    "import numpy as np\n",
    "from numpy.random import randn "
   ]
  },
  {
   "cell_type": "code",
   "execution_count": 6,
   "metadata": {
    "collapsed": false
   },
   "outputs": [],
   "source": [
    "data = randn(2,3) #随机创建一个ndarry数组"
   ]
  },
  {
   "cell_type": "code",
   "execution_count": 7,
   "metadata": {
    "collapsed": false
   },
   "outputs": [
    {
     "data": {
      "text/plain": [
       "array([[ 0.81864017,  1.22267661,  1.98360398],\n",
       "       [-1.34101899,  0.51180943,  2.5973447 ]])"
      ]
     },
     "execution_count": 7,
     "metadata": {},
     "output_type": "execute_result"
    }
   ],
   "source": [
    "data"
   ]
  },
  {
   "cell_type": "code",
   "execution_count": 8,
   "metadata": {
    "collapsed": false
   },
   "outputs": [
    {
     "data": {
      "text/plain": [
       "array([[  8.18640173,  12.22676605,  19.83603978],\n",
       "       [-13.41018987,   5.11809427,  25.97344697]])"
      ]
     },
     "execution_count": 8,
     "metadata": {},
     "output_type": "execute_result"
    }
   ],
   "source": [
    "data * 10 #语法和标量元素之间的运算一个"
   ]
  },
  {
   "cell_type": "code",
   "execution_count": 9,
   "metadata": {
    "collapsed": false
   },
   "outputs": [
    {
     "data": {
      "text/plain": [
       "array([[ 1.63728035,  2.44535321,  3.96720796],\n",
       "       [-2.68203797,  1.02361885,  5.19468939]])"
      ]
     },
     "execution_count": 9,
     "metadata": {},
     "output_type": "execute_result"
    }
   ],
   "source": [
    "data + data"
   ]
  },
  {
   "cell_type": "markdown",
   "metadata": {},
   "source": [
    "ndarry 是一个同构数据多维容器，其中所有元素必须是相同类型。"
   ]
  },
  {
   "cell_type": "code",
   "execution_count": 10,
   "metadata": {
    "collapsed": false
   },
   "outputs": [
    {
     "data": {
      "text/plain": [
       "(2, 3)"
      ]
     },
     "execution_count": 10,
     "metadata": {},
     "output_type": "execute_result"
    }
   ],
   "source": [
    "data.shape #shape是表示各维度大小的元组"
   ]
  },
  {
   "cell_type": "code",
   "execution_count": 11,
   "metadata": {
    "collapsed": false
   },
   "outputs": [
    {
     "data": {
      "text/plain": [
       "dtype('float64')"
      ]
     },
     "execution_count": 11,
     "metadata": {},
     "output_type": "execute_result"
    }
   ],
   "source": [
    "data.dtype #dtype说明数组数据类型的对象"
   ]
  },
  {
   "cell_type": "markdown",
   "metadata": {},
   "source": [
    "## ndarray创建\n",
    "使用array函数创建，该函数接受一切序列型对象"
   ]
  },
  {
   "cell_type": "code",
   "execution_count": 12,
   "metadata": {
    "collapsed": true
   },
   "outputs": [],
   "source": [
    "data1 = [1,2,3,4,5]"
   ]
  },
  {
   "cell_type": "code",
   "execution_count": 13,
   "metadata": {
    "collapsed": true
   },
   "outputs": [],
   "source": [
    "naray1 = np.array(data1)"
   ]
  },
  {
   "cell_type": "code",
   "execution_count": 14,
   "metadata": {
    "collapsed": false
   },
   "outputs": [
    {
     "data": {
      "text/plain": [
       "array([1, 2, 3, 4, 5])"
      ]
     },
     "execution_count": 14,
     "metadata": {},
     "output_type": "execute_result"
    }
   ],
   "source": [
    "naray1"
   ]
  },
  {
   "cell_type": "code",
   "execution_count": 15,
   "metadata": {
    "collapsed": false
   },
   "outputs": [
    {
     "data": {
      "text/plain": [
       "array([ 1.,  1.,  1.,  1.,  1.,  1.,  1.,  1.,  1.,  1.])"
      ]
     },
     "execution_count": 15,
     "metadata": {},
     "output_type": "execute_result"
    }
   ],
   "source": [
    "np.zeros(10) #创建全0数组\n",
    "np.ones(10)  #创建全1数组"
   ]
  },
  {
   "cell_type": "code",
   "execution_count": 20,
   "metadata": {
    "collapsed": false
   },
   "outputs": [
    {
     "data": {
      "text/plain": [
       "array([[ 0.,  0.,  0.],\n",
       "       [ 0.,  0.,  0.]])"
      ]
     },
     "execution_count": 20,
     "metadata": {},
     "output_type": "execute_result"
    }
   ],
   "source": [
    "np.zeros((2,3))"
   ]
  },
  {
   "cell_type": "code",
   "execution_count": 22,
   "metadata": {
    "collapsed": false
   },
   "outputs": [
    {
     "data": {
      "text/plain": [
       "array([[[ 0.],\n",
       "        [ 0.],\n",
       "        [ 0.]],\n",
       "\n",
       "       [[ 0.],\n",
       "        [ 0.],\n",
       "        [ 0.]]])"
      ]
     },
     "execution_count": 22,
     "metadata": {},
     "output_type": "execute_result"
    }
   ],
   "source": [
    "np.empty((2,3,1)) #empty 有时候会初始化垃圾值，并不一定是0"
   ]
  },
  {
   "cell_type": "code",
   "execution_count": 23,
   "metadata": {
    "collapsed": false
   },
   "outputs": [
    {
     "data": {
      "text/plain": [
       "array([ 0,  1,  2,  3,  4,  5,  6,  7,  8,  9, 10, 11, 12, 13, 14])"
      ]
     },
     "execution_count": 23,
     "metadata": {},
     "output_type": "execute_result"
    }
   ],
   "source": [
    "np.arange(15) #类似内置的range,返回ndarry不是列表"
   ]
  },
  {
   "cell_type": "markdown",
   "metadata": {},
   "source": [
    "## ndarry数据类型\n",
    "dtype是numpy的一个对象，有ndarry将一块内存解释为特定数据类型所需的信息。"
   ]
  },
  {
   "cell_type": "code",
   "execution_count": 24,
   "metadata": {
    "collapsed": true
   },
   "outputs": [],
   "source": [
    "arr1 = np.array([2,3],dtype=np.float64) #除非显式声明dtype，否则numpy会自动选择合适的数据类型"
   ]
  },
  {
   "cell_type": "code",
   "execution_count": 26,
   "metadata": {
    "collapsed": false
   },
   "outputs": [
    {
     "data": {
      "text/plain": [
       "dtype('float64')"
      ]
     },
     "execution_count": 26,
     "metadata": {},
     "output_type": "execute_result"
    }
   ],
   "source": [
    "arr1.dtype"
   ]
  },
  {
   "cell_type": "code",
   "execution_count": 27,
   "metadata": {
    "collapsed": true
   },
   "outputs": [],
   "source": [
    "arr = np.array([1,2,3,4,5,6])"
   ]
  },
  {
   "cell_type": "code",
   "execution_count": 28,
   "metadata": {
    "collapsed": false
   },
   "outputs": [
    {
     "data": {
      "text/plain": [
       "array([1, 2, 3, 4, 5, 6])"
      ]
     },
     "execution_count": 28,
     "metadata": {},
     "output_type": "execute_result"
    }
   ],
   "source": [
    "arr"
   ]
  },
  {
   "cell_type": "code",
   "execution_count": 30,
   "metadata": {
    "collapsed": false
   },
   "outputs": [
    {
     "data": {
      "text/plain": [
       "array([ 1.,  2.,  3.,  4.,  5.,  6.])"
      ]
     },
     "execution_count": 30,
     "metadata": {},
     "output_type": "execute_result"
    }
   ],
   "source": [
    "arr.astype(np.float64) #astype 显式转换数据类型，创建新的数组（拷贝原数组）"
   ]
  },
  {
   "cell_type": "markdown",
   "metadata": {
    "collapsed": true
   },
   "source": [
    "## 数组标量间运算\n",
    "即矢量化运算，可以不用通过循环就可以对数据执行批量运算"
   ]
  },
  {
   "cell_type": "code",
   "execution_count": 2,
   "metadata": {
    "collapsed": true
   },
   "outputs": [],
   "source": [
    "arr = np.array([[1.,2.,3.],[4.,5.,6.]])"
   ]
  },
  {
   "cell_type": "code",
   "execution_count": 3,
   "metadata": {
    "collapsed": false
   },
   "outputs": [
    {
     "data": {
      "text/plain": [
       "array([[ 1.,  2.,  3.],\n",
       "       [ 4.,  5.,  6.]])"
      ]
     },
     "execution_count": 3,
     "metadata": {},
     "output_type": "execute_result"
    }
   ],
   "source": [
    "arr"
   ]
  },
  {
   "cell_type": "code",
   "execution_count": 4,
   "metadata": {
    "collapsed": false
   },
   "outputs": [
    {
     "data": {
      "text/plain": [
       "array([[ 0.,  0.,  0.],\n",
       "       [ 0.,  0.,  0.]])"
      ]
     },
     "execution_count": 4,
     "metadata": {},
     "output_type": "execute_result"
    }
   ],
   "source": [
    "arr - arr #大小相等数组间任何算术运算都会运用到元素级"
   ]
  },
  {
   "cell_type": "code",
   "execution_count": 5,
   "metadata": {
    "collapsed": false
   },
   "outputs": [
    {
     "data": {
      "text/plain": [
       "array([[ 2.,  3.,  4.],\n",
       "       [ 5.,  6.,  7.]])"
      ]
     },
     "execution_count": 5,
     "metadata": {},
     "output_type": "execute_result"
    }
   ],
   "source": [
    "1+arr  #与标量运算也会传播到各个元素"
   ]
  },
  {
   "cell_type": "markdown",
   "metadata": {},
   "source": [
    "## 索引和切片\n",
    "### 一维数组"
   ]
  },
  {
   "cell_type": "code",
   "execution_count": 8,
   "metadata": {
    "collapsed": true
   },
   "outputs": [],
   "source": [
    "arr = np.arange(10)"
   ]
  },
  {
   "cell_type": "code",
   "execution_count": 9,
   "metadata": {
    "collapsed": false
   },
   "outputs": [
    {
     "data": {
      "text/plain": [
       "array([0, 1, 2, 3, 4, 5, 6, 7, 8, 9])"
      ]
     },
     "execution_count": 9,
     "metadata": {},
     "output_type": "execute_result"
    }
   ],
   "source": [
    "arr"
   ]
  },
  {
   "cell_type": "code",
   "execution_count": 10,
   "metadata": {
    "collapsed": false
   },
   "outputs": [
    {
     "data": {
      "text/plain": [
       "5"
      ]
     },
     "execution_count": 10,
     "metadata": {},
     "output_type": "execute_result"
    }
   ],
   "source": [
    "arr[5]  #一维数组操作和python列表功能差不多"
   ]
  },
  {
   "cell_type": "code",
   "execution_count": 11,
   "metadata": {
    "collapsed": false
   },
   "outputs": [
    {
     "data": {
      "text/plain": [
       "array([5, 6, 7])"
      ]
     },
     "execution_count": 11,
     "metadata": {},
     "output_type": "execute_result"
    }
   ],
   "source": [
    "arr[5:8]"
   ]
  },
  {
   "cell_type": "code",
   "execution_count": 12,
   "metadata": {
    "collapsed": true
   },
   "outputs": [],
   "source": [
    "arr[3:6] = 10"
   ]
  },
  {
   "cell_type": "code",
   "execution_count": 13,
   "metadata": {
    "collapsed": false
   },
   "outputs": [
    {
     "data": {
      "text/plain": [
       "array([ 0,  1,  2, 10, 10, 10,  6,  7,  8,  9])"
      ]
     },
     "execution_count": 13,
     "metadata": {},
     "output_type": "execute_result"
    }
   ],
   "source": [
    "arr"
   ]
  },
  {
   "cell_type": "markdown",
   "metadata": {},
   "source": [
    "*与列表的区别：数组切片是原始数组的视图，所有操作都在原始数组上，数据不会被复制。*"
   ]
  },
  {
   "cell_type": "code",
   "execution_count": 14,
   "metadata": {
    "collapsed": true
   },
   "outputs": [],
   "source": [
    "arr_slice = arr[1:4]"
   ]
  },
  {
   "cell_type": "code",
   "execution_count": 15,
   "metadata": {
    "collapsed": false
   },
   "outputs": [
    {
     "data": {
      "text/plain": [
       "array([ 1,  2, 10])"
      ]
     },
     "execution_count": 15,
     "metadata": {},
     "output_type": "execute_result"
    }
   ],
   "source": [
    "arr_slice"
   ]
  },
  {
   "cell_type": "code",
   "execution_count": 16,
   "metadata": {
    "collapsed": true
   },
   "outputs": [],
   "source": [
    "arr_slice[1] = 1122"
   ]
  },
  {
   "cell_type": "code",
   "execution_count": 17,
   "metadata": {
    "collapsed": false
   },
   "outputs": [
    {
     "data": {
      "text/plain": [
       "array([   0,    1, 1122,   10,   10,   10,    6,    7,    8,    9])"
      ]
     },
     "execution_count": 17,
     "metadata": {},
     "output_type": "execute_result"
    }
   ],
   "source": [
    "arr"
   ]
  },
  {
   "cell_type": "code",
   "execution_count": 18,
   "metadata": {
    "collapsed": true
   },
   "outputs": [],
   "source": [
    "arr_slice = arr[1:4].copy() #如需复制需要显式说明"
   ]
  },
  {
   "cell_type": "markdown",
   "metadata": {},
   "source": [
    "### 多维数组\n",
    "各索引位置上不再是标量而是数组"
   ]
  },
  {
   "cell_type": "code",
   "execution_count": 19,
   "metadata": {
    "collapsed": true
   },
   "outputs": [],
   "source": [
    "arr2d = np.array([[1,2,3],[4,5,6],[7,8,9]])"
   ]
  },
  {
   "cell_type": "code",
   "execution_count": 20,
   "metadata": {
    "collapsed": false
   },
   "outputs": [
    {
     "data": {
      "text/plain": [
       "array([7, 8, 9])"
      ]
     },
     "execution_count": 20,
     "metadata": {},
     "output_type": "execute_result"
    }
   ],
   "source": [
    "arr2d[2] "
   ]
  },
  {
   "cell_type": "code",
   "execution_count": 21,
   "metadata": {
    "collapsed": false
   },
   "outputs": [
    {
     "data": {
      "text/plain": [
       "8"
      ]
     },
     "execution_count": 21,
     "metadata": {},
     "output_type": "execute_result"
    }
   ],
   "source": [
    "arr2d[2,1]  #二维矩阵单个元素提取"
   ]
  },
  {
   "cell_type": "markdown",
   "metadata": {},
   "source": [
    "### 高维数组切片索引"
   ]
  },
  {
   "cell_type": "code",
   "execution_count": 22,
   "metadata": {
    "collapsed": false
   },
   "outputs": [
    {
     "data": {
      "text/plain": [
       "array([[1, 2, 3],\n",
       "       [4, 5, 6],\n",
       "       [7, 8, 9]])"
      ]
     },
     "execution_count": 22,
     "metadata": {},
     "output_type": "execute_result"
    }
   ],
   "source": [
    "arr2d"
   ]
  },
  {
   "cell_type": "code",
   "execution_count": 23,
   "metadata": {
    "collapsed": false
   },
   "outputs": [
    {
     "data": {
      "text/plain": [
       "array([[1, 2, 3]])"
      ]
     },
     "execution_count": 23,
     "metadata": {},
     "output_type": "execute_result"
    }
   ],
   "source": [
    "arr2d[:1]  #默认以0轴进行切片"
   ]
  },
  {
   "cell_type": "code",
   "execution_count": 24,
   "metadata": {
    "collapsed": false
   },
   "outputs": [
    {
     "data": {
      "text/plain": [
       "array([[1, 2],\n",
       "       [4, 5]])"
      ]
     },
     "execution_count": 24,
     "metadata": {},
     "output_type": "execute_result"
    }
   ],
   "source": [
    "arr2d[:2,:2]  #一次传入多个切片"
   ]
  },
  {
   "cell_type": "markdown",
   "metadata": {
    "collapsed": true
   },
   "source": [
    "## 布尔索引"
   ]
  },
  {
   "cell_type": "code",
   "execution_count": 2,
   "metadata": {
    "collapsed": true
   },
   "outputs": [],
   "source": [
    "names = np.array(['a','b','c','a','d'])"
   ]
  },
  {
   "cell_type": "code",
   "execution_count": 3,
   "metadata": {
    "collapsed": false
   },
   "outputs": [
    {
     "data": {
      "text/plain": [
       "array([ True, False, False,  True, False], dtype=bool)"
      ]
     },
     "execution_count": 3,
     "metadata": {},
     "output_type": "execute_result"
    }
   ],
   "source": [
    "names=='a'"
   ]
  },
  {
   "cell_type": "code",
   "execution_count": 4,
   "metadata": {
    "collapsed": true
   },
   "outputs": [],
   "source": [
    "data = randn(5,3)"
   ]
  },
  {
   "cell_type": "code",
   "execution_count": 5,
   "metadata": {
    "collapsed": false
   },
   "outputs": [
    {
     "data": {
      "text/plain": [
       "array([[ 1.00835702, -0.67904266, -0.44755107],\n",
       "       [-1.55372947,  0.74991865, -2.54631379],\n",
       "       [-0.58777312, -0.56724948, -0.51350374],\n",
       "       [-1.82055349,  0.33002027, -0.23504056],\n",
       "       [ 0.68790517,  1.04794177,  0.49661298]])"
      ]
     },
     "execution_count": 5,
     "metadata": {},
     "output_type": "execute_result"
    }
   ],
   "source": [
    "data"
   ]
  },
  {
   "cell_type": "code",
   "execution_count": 6,
   "metadata": {
    "collapsed": false
   },
   "outputs": [
    {
     "data": {
      "text/plain": [
       "array([[ 1.00835702, -0.67904266, -0.44755107],\n",
       "       [-1.82055349,  0.33002027, -0.23504056]])"
      ]
     },
     "execution_count": 6,
     "metadata": {},
     "output_type": "execute_result"
    }
   ],
   "source": [
    "data[names=='a']  #布尔型数组长度必须跟被索引的轴长度一致"
   ]
  },
  {
   "cell_type": "markdown",
   "metadata": {},
   "source": [
    "## 花式索引\n",
    "利用整数数组进行索引\n",
    "花式索引将数据复制到新的数组"
   ]
  },
  {
   "cell_type": "code",
   "execution_count": 8,
   "metadata": {
    "collapsed": false
   },
   "outputs": [],
   "source": [
    "arr = np.empty((8,4))"
   ]
  },
  {
   "cell_type": "code",
   "execution_count": 12,
   "metadata": {
    "collapsed": true
   },
   "outputs": [],
   "source": [
    "for i in range(8):\n",
    "    arr[i] = i+1"
   ]
  },
  {
   "cell_type": "code",
   "execution_count": 14,
   "metadata": {
    "collapsed": false
   },
   "outputs": [
    {
     "data": {
      "text/plain": [
       "array([[ 1.,  1.,  1.,  1.],\n",
       "       [ 2.,  2.,  2.,  2.],\n",
       "       [ 3.,  3.,  3.,  3.],\n",
       "       [ 4.,  4.,  4.,  4.],\n",
       "       [ 5.,  5.,  5.,  5.],\n",
       "       [ 6.,  6.,  6.,  6.],\n",
       "       [ 7.,  7.,  7.,  7.],\n",
       "       [ 8.,  8.,  8.,  8.]])"
      ]
     },
     "execution_count": 14,
     "metadata": {},
     "output_type": "execute_result"
    }
   ],
   "source": [
    "arr"
   ]
  },
  {
   "cell_type": "code",
   "execution_count": 15,
   "metadata": {
    "collapsed": false
   },
   "outputs": [
    {
     "data": {
      "text/plain": [
       "array([[ 4.,  4.,  4.,  4.],\n",
       "       [ 3.,  3.,  3.,  3.],\n",
       "       [ 7.,  7.,  7.,  7.]])"
      ]
     },
     "execution_count": 15,
     "metadata": {},
     "output_type": "execute_result"
    }
   ],
   "source": [
    "arr[[3,2,6]] #以特定顺序选取行子集，传入用于指定顺序的整数列表，使用负数会从尾部开始取"
   ]
  },
  {
   "cell_type": "markdown",
   "metadata": {},
   "source": [
    "## 数组转置和轴对换\n",
    "返回源数组视图不产生新的数组"
   ]
  },
  {
   "cell_type": "code",
   "execution_count": 16,
   "metadata": {
    "collapsed": true
   },
   "outputs": [],
   "source": [
    "arr = np.arange(15).reshape((3,5))"
   ]
  },
  {
   "cell_type": "code",
   "execution_count": 17,
   "metadata": {
    "collapsed": false
   },
   "outputs": [
    {
     "data": {
      "text/plain": [
       "array([[ 0,  1,  2,  3,  4],\n",
       "       [ 5,  6,  7,  8,  9],\n",
       "       [10, 11, 12, 13, 14]])"
      ]
     },
     "execution_count": 17,
     "metadata": {},
     "output_type": "execute_result"
    }
   ],
   "source": [
    "arr"
   ]
  },
  {
   "cell_type": "code",
   "execution_count": 18,
   "metadata": {
    "collapsed": false
   },
   "outputs": [
    {
     "data": {
      "text/plain": [
       "array([[ 0,  5, 10],\n",
       "       [ 1,  6, 11],\n",
       "       [ 2,  7, 12],\n",
       "       [ 3,  8, 13],\n",
       "       [ 4,  9, 14]])"
      ]
     },
     "execution_count": 18,
     "metadata": {},
     "output_type": "execute_result"
    }
   ],
   "source": [
    "arr.T"
   ]
  },
  {
   "cell_type": "code",
   "execution_count": 20,
   "metadata": {
    "collapsed": false
   },
   "outputs": [
    {
     "data": {
      "text/plain": [
       "array([[ 0,  1,  2,  3,  4],\n",
       "       [ 5,  6,  7,  8,  9],\n",
       "       [10, 11, 12, 13, 14]])"
      ]
     },
     "execution_count": 20,
     "metadata": {},
     "output_type": "execute_result"
    }
   ],
   "source": [
    "arr #返回源数组视图"
   ]
  },
  {
   "cell_type": "markdown",
   "metadata": {},
   "source": [
    "## 数据处理 计算sqrt(x^2+y^2)"
   ]
  },
  {
   "cell_type": "code",
   "execution_count": 8,
   "metadata": {
    "collapsed": true
   },
   "outputs": [],
   "source": [
    "points = np.arange(-5,5,0.01)"
   ]
  },
  {
   "cell_type": "code",
   "execution_count": 9,
   "metadata": {
    "collapsed": false
   },
   "outputs": [],
   "source": [
    "xs,ys = np.meshgrid(points,points)"
   ]
  },
  {
   "cell_type": "code",
   "execution_count": 10,
   "metadata": {
    "collapsed": false
   },
   "outputs": [
    {
     "name": "stdout",
     "output_type": "stream",
     "text": [
      "Using matplotlib backend: MacOSX\n",
      "Populating the interactive namespace from numpy and matplotlib\n"
     ]
    }
   ],
   "source": [
    "%pylab"
   ]
  },
  {
   "cell_type": "code",
   "execution_count": 11,
   "metadata": {
    "collapsed": true
   },
   "outputs": [],
   "source": [
    "import matplotlib.pyplot as plt"
   ]
  },
  {
   "cell_type": "code",
   "execution_count": 12,
   "metadata": {
    "collapsed": false
   },
   "outputs": [],
   "source": [
    "z = np.sqrt(xs**2+ys**2)"
   ]
  },
  {
   "cell_type": "code",
   "execution_count": 13,
   "metadata": {
    "collapsed": false
   },
   "outputs": [
    {
     "data": {
      "text/plain": [
       "array([[ 7.07106781,  7.06400028,  7.05693985, ...,  7.04988652,\n",
       "         7.05693985,  7.06400028],\n",
       "       [ 7.06400028,  7.05692568,  7.04985815, ...,  7.04279774,\n",
       "         7.04985815,  7.05692568],\n",
       "       [ 7.05693985,  7.04985815,  7.04278354, ...,  7.03571603,\n",
       "         7.04278354,  7.04985815],\n",
       "       ..., \n",
       "       [ 7.04988652,  7.04279774,  7.03571603, ...,  7.0286414 ,\n",
       "         7.03571603,  7.04279774],\n",
       "       [ 7.05693985,  7.04985815,  7.04278354, ...,  7.03571603,\n",
       "         7.04278354,  7.04985815],\n",
       "       [ 7.06400028,  7.05692568,  7.04985815, ...,  7.04279774,\n",
       "         7.04985815,  7.05692568]])"
      ]
     },
     "execution_count": 13,
     "metadata": {},
     "output_type": "execute_result"
    }
   ],
   "source": [
    "z"
   ]
  },
  {
   "cell_type": "code",
   "execution_count": 14,
   "metadata": {
    "collapsed": false
   },
   "outputs": [
    {
     "data": {
      "text/plain": [
       "<matplotlib.colorbar.Colorbar at 0x10e212f90>"
      ]
     },
     "execution_count": 14,
     "metadata": {},
     "output_type": "execute_result"
    }
   ],
   "source": [
    "plt.imshow(z,cmap=plt.cm.gray);plt.colorbar()"
   ]
  },
  {
   "cell_type": "markdown",
   "metadata": {
    "collapsed": false
   },
   "source": [
    "## 数学和统计方法"
   ]
  },
  {
   "cell_type": "code",
   "execution_count": 15,
   "metadata": {
    "collapsed": true
   },
   "outputs": [],
   "source": [
    "arr = np.random.randn(5,4) #正态分布数据"
   ]
  },
  {
   "cell_type": "code",
   "execution_count": 16,
   "metadata": {
    "collapsed": false
   },
   "outputs": [
    {
     "data": {
      "text/plain": [
       "-0.43473018750795334"
      ]
     },
     "execution_count": 16,
     "metadata": {},
     "output_type": "execute_result"
    }
   ],
   "source": [
    "arr.mean()  #均值"
   ]
  },
  {
   "cell_type": "code",
   "execution_count": 17,
   "metadata": {
    "collapsed": false
   },
   "outputs": [
    {
     "data": {
      "text/plain": [
       "-0.43473018750795334"
      ]
     },
     "execution_count": 17,
     "metadata": {},
     "output_type": "execute_result"
    }
   ],
   "source": [
    "np.mean(arr)"
   ]
  },
  {
   "cell_type": "code",
   "execution_count": 18,
   "metadata": {
    "collapsed": false
   },
   "outputs": [
    {
     "data": {
      "text/plain": [
       "array([[-1.58926742, -0.1632255 , -1.48664356, -0.12766491],\n",
       "       [-0.97934835, -0.23099791, -0.30055414,  0.32489684],\n",
       "       [ 1.17316358, -1.63821456, -0.53605441,  0.97179719],\n",
       "       [ 0.18209741, -3.88646239, -0.26441447,  0.66892478],\n",
       "       [ 0.74658754, -1.10206432,  0.22823898, -0.68539814]])"
      ]
     },
     "execution_count": 18,
     "metadata": {},
     "output_type": "execute_result"
    }
   ],
   "source": [
    "arr"
   ]
  },
  {
   "cell_type": "code",
   "execution_count": 19,
   "metadata": {
    "collapsed": false
   },
   "outputs": [
    {
     "data": {
      "text/plain": [
       "-8.6946037501590663"
      ]
     },
     "execution_count": 19,
     "metadata": {},
     "output_type": "execute_result"
    }
   ],
   "source": [
    "arr.sum()"
   ]
  },
  {
   "cell_type": "code",
   "execution_count": 20,
   "metadata": {
    "collapsed": false
   },
   "outputs": [
    {
     "data": {
      "text/plain": [
       "array([-0.09335345, -1.40419294, -0.47188552,  0.23051115])"
      ]
     },
     "execution_count": 20,
     "metadata": {},
     "output_type": "execute_result"
    }
   ],
   "source": [
    "arr.mean(axis=0)"
   ]
  },
  {
   "cell_type": "code",
   "execution_count": 21,
   "metadata": {
    "collapsed": false
   },
   "outputs": [
    {
     "data": {
      "text/plain": [
       "array([-0.84170034, -0.29650089, -0.00732705, -0.82496367, -0.20315899])"
      ]
     },
     "execution_count": 21,
     "metadata": {},
     "output_type": "execute_result"
    }
   ],
   "source": [
    "arr.mean(axis=1)"
   ]
  },
  {
   "cell_type": "code",
   "execution_count": 22,
   "metadata": {
    "collapsed": false
   },
   "outputs": [
    {
     "data": {
      "text/plain": [
       "1.1280097319439752"
      ]
     },
     "execution_count": 22,
     "metadata": {},
     "output_type": "execute_result"
    }
   ],
   "source": [
    "arr.std()"
   ]
  },
  {
   "cell_type": "code",
   "execution_count": 23,
   "metadata": {
    "collapsed": false
   },
   "outputs": [
    {
     "data": {
      "text/plain": [
       "-3.8864623914198235"
      ]
     },
     "execution_count": 23,
     "metadata": {},
     "output_type": "execute_result"
    }
   ],
   "source": [
    "arr.min()"
   ]
  },
  {
   "cell_type": "markdown",
   "metadata": {},
   "source": [
    "## 排序\n",
    "可通过sort方法进行排序"
   ]
  },
  {
   "cell_type": "code",
   "execution_count": 24,
   "metadata": {
    "collapsed": true
   },
   "outputs": [],
   "source": [
    "arr = randn(5,3)"
   ]
  },
  {
   "cell_type": "code",
   "execution_count": 26,
   "metadata": {
    "collapsed": false
   },
   "outputs": [
    {
     "data": {
      "text/plain": [
       "array([[-0.85121181, -1.18395541,  0.7583028 ],\n",
       "       [-1.25808424, -1.18967687, -2.04438527],\n",
       "       [-0.479327  ,  0.3450897 , -1.63062614],\n",
       "       [ 0.88562111,  0.03362126,  1.29185623],\n",
       "       [-0.99682785,  0.61020649,  1.903782  ]])"
      ]
     },
     "execution_count": 26,
     "metadata": {},
     "output_type": "execute_result"
    }
   ],
   "source": [
    "arr"
   ]
  },
  {
   "cell_type": "code",
   "execution_count": 33,
   "metadata": {
    "collapsed": false
   },
   "outputs": [
    {
     "data": {
      "text/plain": [
       "array([-0.85121181, -1.25808424, -0.479327  ,  0.88562111,  0.61020649])"
      ]
     },
     "execution_count": 33,
     "metadata": {},
     "output_type": "execute_result"
    }
   ],
   "source": [
    "arr[:,1]\n",
    "#arr.sort(1)  #多维数组可在任意轴上排序"
   ]
  },
  {
   "cell_type": "code",
   "execution_count": 28,
   "metadata": {
    "collapsed": false
   },
   "outputs": [
    {
     "data": {
      "text/plain": [
       "array([[-1.18395541, -0.85121181,  0.7583028 ],\n",
       "       [-2.04438527, -1.25808424, -1.18967687],\n",
       "       [-1.63062614, -0.479327  ,  0.3450897 ],\n",
       "       [ 0.03362126,  0.88562111,  1.29185623],\n",
       "       [-0.99682785,  0.61020649,  1.903782  ]])"
      ]
     },
     "execution_count": 28,
     "metadata": {},
     "output_type": "execute_result"
    }
   ],
   "source": [
    "arr"
   ]
  },
  {
   "cell_type": "code",
   "execution_count": 30,
   "metadata": {
    "collapsed": false
   },
   "outputs": [
    {
     "data": {
      "text/plain": [
       "array([-1.63062614, -0.479327  ,  0.3450897 ])"
      ]
     },
     "execution_count": 30,
     "metadata": {},
     "output_type": "execute_result"
    }
   ],
   "source": [
    "arr[2,:]"
   ]
  },
  {
   "cell_type": "markdown",
   "metadata": {
    "collapsed": true
   },
   "source": [
    "# 用于数组的文件输入输出\n",
    "numpy 能读写磁盘文本数据或二进制数据。\n",
    "## 数组以二进制保存"
   ]
  },
  {
   "cell_type": "code",
   "execution_count": 2,
   "metadata": {
    "collapsed": true
   },
   "outputs": [],
   "source": [
    "arr = np.arange(10)"
   ]
  },
  {
   "cell_type": "code",
   "execution_count": 3,
   "metadata": {
    "collapsed": true
   },
   "outputs": [],
   "source": [
    "np.save(\"test_save\",arr) #保存"
   ]
  },
  {
   "cell_type": "code",
   "execution_count": 4,
   "metadata": {
    "collapsed": true
   },
   "outputs": [],
   "source": [
    "test = np.load(\"test_save.npy\") #读取"
   ]
  },
  {
   "cell_type": "code",
   "execution_count": 5,
   "metadata": {
    "collapsed": false
   },
   "outputs": [
    {
     "data": {
      "text/plain": [
       "array([0, 1, 2, 3, 4, 5, 6, 7, 8, 9])"
      ]
     },
     "execution_count": 5,
     "metadata": {},
     "output_type": "execute_result"
    }
   ],
   "source": [
    "test"
   ]
  },
  {
   "cell_type": "code",
   "execution_count": 1,
   "metadata": {
    "collapsed": false
   },
   "outputs": [
    {
     "name": "stdout",
     "output_type": "stream",
     "text": [
      "/Users/apple/workspace/MachineLearning/Python/Logistic Regression\n"
     ]
    }
   ],
   "source": [
    "%cd /Users/apple/workspace/MachineLearning/Python/Logistic\\ Regression"
   ]
  },
  {
   "cell_type": "code",
   "execution_count": 2,
   "metadata": {
    "collapsed": false
   },
   "outputs": [
    {
     "name": "stdout",
     "output_type": "stream",
     "text": [
      "LogistinRegression.py  ex2data1.txt\r\n"
     ]
    }
   ],
   "source": [
    "%ls"
   ]
  },
  {
   "cell_type": "code",
   "execution_count": 7,
   "metadata": {
    "collapsed": false
   },
   "outputs": [],
   "source": [
    "data = np.loadtxt(\"ex2data1.txt\",delimiter=\",\")"
   ]
  },
  {
   "cell_type": "code",
   "execution_count": 8,
   "metadata": {
    "collapsed": false
   },
   "outputs": [
    {
     "data": {
      "text/plain": [
       "array([[ 34.62365962,  78.02469282,   0.        ],\n",
       "       [ 30.28671077,  43.89499752,   0.        ],\n",
       "       [ 35.84740877,  72.90219803,   0.        ],\n",
       "       [ 60.18259939,  86.3085521 ,   1.        ],\n",
       "       [ 79.03273605,  75.34437644,   1.        ],\n",
       "       [ 45.08327748,  56.31637178,   0.        ],\n",
       "       [ 61.10666454,  96.51142588,   1.        ],\n",
       "       [ 75.02474557,  46.55401354,   1.        ],\n",
       "       [ 76.0987867 ,  87.42056972,   1.        ],\n",
       "       [ 84.43281996,  43.53339331,   1.        ],\n",
       "       [ 95.86155507,  38.22527806,   0.        ],\n",
       "       [ 75.01365839,  30.60326323,   0.        ],\n",
       "       [ 82.30705337,  76.4819633 ,   1.        ],\n",
       "       [ 69.36458876,  97.71869196,   1.        ],\n",
       "       [ 39.53833914,  76.03681085,   0.        ],\n",
       "       [ 53.97105215,  89.20735014,   1.        ],\n",
       "       [ 69.07014406,  52.74046973,   1.        ],\n",
       "       [ 67.94685548,  46.67857411,   0.        ],\n",
       "       [ 70.66150955,  92.92713789,   1.        ],\n",
       "       [ 76.97878373,  47.57596365,   1.        ],\n",
       "       [ 67.37202755,  42.83843832,   0.        ],\n",
       "       [ 89.67677575,  65.79936593,   1.        ],\n",
       "       [ 50.53478829,  48.85581153,   0.        ],\n",
       "       [ 34.21206098,  44.2095286 ,   0.        ],\n",
       "       [ 77.92409145,  68.97235999,   1.        ],\n",
       "       [ 62.27101367,  69.95445795,   1.        ],\n",
       "       [ 80.19018075,  44.82162893,   1.        ],\n",
       "       [ 93.1143888 ,  38.80067034,   0.        ],\n",
       "       [ 61.83020602,  50.25610789,   0.        ],\n",
       "       [ 38.7858038 ,  64.99568096,   0.        ],\n",
       "       [ 61.37928945,  72.80788731,   1.        ],\n",
       "       [ 85.40451939,  57.05198398,   1.        ],\n",
       "       [ 52.10797973,  63.12762377,   0.        ],\n",
       "       [ 52.04540477,  69.43286012,   1.        ],\n",
       "       [ 40.23689374,  71.16774802,   0.        ],\n",
       "       [ 54.63510555,  52.21388588,   0.        ],\n",
       "       [ 33.91550011,  98.86943574,   0.        ],\n",
       "       [ 64.17698887,  80.90806059,   1.        ],\n",
       "       [ 74.78925296,  41.57341523,   0.        ],\n",
       "       [ 34.18364003,  75.23772034,   0.        ],\n",
       "       [ 83.90239366,  56.30804622,   1.        ],\n",
       "       [ 51.54772027,  46.85629026,   0.        ],\n",
       "       [ 94.44336777,  65.56892161,   1.        ],\n",
       "       [ 82.36875376,  40.61825516,   0.        ],\n",
       "       [ 51.04775177,  45.82270146,   0.        ],\n",
       "       [ 62.22267576,  52.06099195,   0.        ],\n",
       "       [ 77.19303493,  70.4582    ,   1.        ],\n",
       "       [ 97.77159928,  86.72782233,   1.        ],\n",
       "       [ 62.0730638 ,  96.76882412,   1.        ],\n",
       "       [ 91.5649745 ,  88.69629255,   1.        ],\n",
       "       [ 79.94481794,  74.16311935,   1.        ],\n",
       "       [ 99.27252693,  60.999031  ,   1.        ],\n",
       "       [ 90.54671411,  43.39060181,   1.        ],\n",
       "       [ 34.52451385,  60.39634246,   0.        ],\n",
       "       [ 50.28649612,  49.80453881,   0.        ],\n",
       "       [ 49.58667722,  59.80895099,   0.        ],\n",
       "       [ 97.64563396,  68.86157272,   1.        ],\n",
       "       [ 32.57720017,  95.59854761,   0.        ],\n",
       "       [ 74.24869137,  69.82457123,   1.        ],\n",
       "       [ 71.79646206,  78.45356225,   1.        ],\n",
       "       [ 75.39561147,  85.75993667,   1.        ],\n",
       "       [ 35.28611282,  47.02051395,   0.        ],\n",
       "       [ 56.2538175 ,  39.26147251,   0.        ],\n",
       "       [ 30.05882245,  49.59297387,   0.        ],\n",
       "       [ 44.66826172,  66.45008615,   0.        ],\n",
       "       [ 66.56089447,  41.09209808,   0.        ],\n",
       "       [ 40.45755098,  97.53518549,   1.        ],\n",
       "       [ 49.07256322,  51.88321182,   0.        ],\n",
       "       [ 80.27957401,  92.11606081,   1.        ],\n",
       "       [ 66.74671857,  60.99139403,   1.        ],\n",
       "       [ 32.72283304,  43.30717306,   0.        ],\n",
       "       [ 64.03932042,  78.03168802,   1.        ],\n",
       "       [ 72.34649423,  96.22759297,   1.        ],\n",
       "       [ 60.45788574,  73.0949981 ,   1.        ],\n",
       "       [ 58.84095622,  75.85844831,   1.        ],\n",
       "       [ 99.8278578 ,  72.36925193,   1.        ],\n",
       "       [ 47.26426911,  88.475865  ,   1.        ],\n",
       "       [ 50.4581598 ,  75.80985953,   1.        ],\n",
       "       [ 60.45555629,  42.50840944,   0.        ],\n",
       "       [ 82.22666158,  42.71987854,   0.        ],\n",
       "       [ 88.91389642,  69.8037889 ,   1.        ],\n",
       "       [ 94.83450672,  45.6943068 ,   1.        ],\n",
       "       [ 67.31925747,  66.58935318,   1.        ],\n",
       "       [ 57.23870632,  59.51428198,   1.        ],\n",
       "       [ 80.366756  ,  90.9601479 ,   1.        ],\n",
       "       [ 68.46852179,  85.5943071 ,   1.        ],\n",
       "       [ 42.07545454,  78.844786  ,   0.        ],\n",
       "       [ 75.47770201,  90.424539  ,   1.        ],\n",
       "       [ 78.63542435,  96.64742717,   1.        ],\n",
       "       [ 52.34800399,  60.76950526,   0.        ],\n",
       "       [ 94.09433113,  77.15910509,   1.        ],\n",
       "       [ 90.44855097,  87.50879176,   1.        ],\n",
       "       [ 55.48216114,  35.57070347,   0.        ],\n",
       "       [ 74.49269242,  84.84513685,   1.        ],\n",
       "       [ 89.84580671,  45.35828361,   1.        ],\n",
       "       [ 83.48916274,  48.3802858 ,   1.        ],\n",
       "       [ 42.26170081,  87.10385094,   1.        ],\n",
       "       [ 99.31500881,  68.77540947,   1.        ],\n",
       "       [ 55.34001756,  64.93193801,   1.        ],\n",
       "       [ 74.775893  ,  89.5298129 ,   1.        ]])"
      ]
     },
     "execution_count": 8,
     "metadata": {},
     "output_type": "execute_result"
    }
   ],
   "source": [
    "data\n"
   ]
  },
  {
   "cell_type": "code",
   "execution_count": 9,
   "metadata": {
    "collapsed": false
   },
   "outputs": [
    {
     "data": {
      "text/plain": [
       "array([ 34.62365962,  30.28671077,  35.84740877,  60.18259939,\n",
       "        79.03273605,  45.08327748,  61.10666454,  75.02474557,\n",
       "        76.0987867 ,  84.43281996,  95.86155507,  75.01365839,\n",
       "        82.30705337,  69.36458876,  39.53833914,  53.97105215,\n",
       "        69.07014406,  67.94685548,  70.66150955,  76.97878373,\n",
       "        67.37202755,  89.67677575,  50.53478829,  34.21206098,\n",
       "        77.92409145,  62.27101367,  80.19018075,  93.1143888 ,\n",
       "        61.83020602,  38.7858038 ,  61.37928945,  85.40451939,\n",
       "        52.10797973,  52.04540477,  40.23689374,  54.63510555,\n",
       "        33.91550011,  64.17698887,  74.78925296,  34.18364003,\n",
       "        83.90239366,  51.54772027,  94.44336777,  82.36875376,\n",
       "        51.04775177,  62.22267576,  77.19303493,  97.77159928,\n",
       "        62.0730638 ,  91.5649745 ,  79.94481794,  99.27252693,\n",
       "        90.54671411,  34.52451385,  50.28649612,  49.58667722,\n",
       "        97.64563396,  32.57720017,  74.24869137,  71.79646206,\n",
       "        75.39561147,  35.28611282,  56.2538175 ,  30.05882245,\n",
       "        44.66826172,  66.56089447,  40.45755098,  49.07256322,\n",
       "        80.27957401,  66.74671857,  32.72283304,  64.03932042,\n",
       "        72.34649423,  60.45788574,  58.84095622,  99.8278578 ,\n",
       "        47.26426911,  50.4581598 ,  60.45555629,  82.22666158,\n",
       "        88.91389642,  94.83450672,  67.31925747,  57.23870632,\n",
       "        80.366756  ,  68.46852179,  42.07545454,  75.47770201,\n",
       "        78.63542435,  52.34800399,  94.09433113,  90.44855097,\n",
       "        55.48216114,  74.49269242,  89.84580671,  83.48916274,\n",
       "        42.26170081,  99.31500881,  55.34001756,  74.775893  ])"
      ]
     },
     "execution_count": 9,
     "metadata": {},
     "output_type": "execute_result"
    }
   ],
   "source": [
    "data[:,0]"
   ]
  },
  {
   "cell_type": "code",
   "execution_count": null,
   "metadata": {
    "collapsed": true
   },
   "outputs": [],
   "source": []
  }
 ],
 "metadata": {
  "anaconda-cloud": {},
  "kernelspec": {
   "display_name": "Python [conda root]",
   "language": "python",
   "name": "conda-root-py"
  },
  "language_info": {
   "codemirror_mode": {
    "name": "ipython",
    "version": 2
   },
   "file_extension": ".py",
   "mimetype": "text/x-python",
   "name": "python",
   "nbconvert_exporter": "python",
   "pygments_lexer": "ipython2",
   "version": "2.7.12"
  }
 },
 "nbformat": 4,
 "nbformat_minor": 1
}
